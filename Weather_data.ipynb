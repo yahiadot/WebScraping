{
 "cells": [
  {
   "cell_type": "code",
   "execution_count": 19,
   "id": "653d2adc",
   "metadata": {},
   "outputs": [],
   "source": [
    "import requests\n",
    "import json\n",
    "import csv\n",
    "import time"
   ]
  },
  {
   "cell_type": "code",
   "execution_count": 4,
   "id": "b3cdf864",
   "metadata": {},
   "outputs": [
    {
     "name": "stdout",
     "output_type": "stream",
     "text": [
      "{\"consolidated_weather\":[{\"id\":6243028080525312,\"weather_state_name\":\"Light Cloud\",\"weather_state_abbr\":\"lc\",\"wind_direction_compass\":\"NNW\",\"created\":\"2021-09-11T13:34:24.251470Z\",\"applicable_date\":\"2021-09-11\",\"min_temp\":22.240000000000002,\"max_temp\":34.230000000000004,\"the_temp\":31.53,\"wind_speed\":7.671724580285797,\"wind_direction\":336.4322412219649,\"air_pressure\":1014.0,\"humidity\":48,\"visibility\":14.206720253718284,\"predictability\":70},{\"id\":5351216801382400,\"weather_state_name\":\"Clear\",\"weather_state_abbr\":\"c\",\"wind_direction_compass\":\"NNW\",\"created\":\"2021-09-11T13:34:26.767835Z\",\"applicable_date\":\"2021-09-12\",\"min_temp\":21.545,\"max_temp\":35.92,\"the_temp\":32.44,\"wind_speed\":6.193606686600918,\"wind_direction\":345.9218239795083,\"air_pressure\":1011.5,\"humidity\":43,\"visibility\":14.559348405312972,\"predictability\":68},{\"id\":5948167704018944,\"weather_state_name\":\"Clear\",\"weather_state_abbr\":\"c\",\"wind_direction_compass\":\"WNW\",\"created\":\"2021-09-11T13:34:30.270190Z\",\"applicable_date\":\"2021-09-13\",\"min_temp\":25.369999999999997,\"max_temp\":38.485,\"the_temp\":36.735,\"wind_speed\":7.322852897383282,\"wind_direction\":298.4680480829431,\"air_pressure\":1009.0,\"humidity\":30,\"visibility\":14.699467609162491,\"predictability\":68},{\"id\":5785194482106368,\"weather_state_name\":\"Clear\",\"weather_state_abbr\":\"c\",\"wind_direction_compass\":\"N\",\"created\":\"2021-09-11T13:34:32.447075Z\",\"applicable_date\":\"2021-09-14\",\"min_temp\":24.134999999999998,\"max_temp\":36.205,\"the_temp\":33.37,\"wind_speed\":6.937136238664863,\"wind_direction\":351.95663480946246,\"air_pressure\":1010.5,\"humidity\":42,\"visibility\":14.255187206712797,\"predictability\":68},{\"id\":5984270628683776,\"weather_state_name\":\"Clear\",\"weather_state_abbr\":\"c\",\"wind_direction_compass\":\"NNW\",\"created\":\"2021-09-11T13:34:36.062622Z\",\"applicable_date\":\"2021-09-15\",\"min_temp\":24.68,\"max_temp\":34.45,\"the_temp\":31.745,\"wind_speed\":8.124003023661814,\"wind_direction\":344.2288108893581,\"air_pressure\":1012.5,\"humidity\":46,\"visibility\":13.933316929133857,\"predictability\":68},{\"id\":4578280234549248,\"weather_state_name\":\"Clear\",\"weather_state_abbr\":\"c\",\"wind_direction_compass\":\"NNW\",\"created\":\"2021-09-11T13:34:39.145666Z\",\"applicable_date\":\"2021-09-16\",\"min_temp\":22.5,\"max_temp\":32.955,\"the_temp\":29.7,\"wind_speed\":7.422291418118189,\"wind_direction\":330.5,\"air_pressure\":1013.0,\"humidity\":50,\"visibility\":9.999726596675416,\"predictability\":68}],\"time\":\"2021-09-11T18:10:43.324221+02:00\",\"sun_rise\":\"2021-09-11T05:37:22.477212+02:00\",\"sun_set\":\"2021-09-11T18:05:18.923615+02:00\",\"timezone_name\":\"LMT\",\"parent\":{\"title\":\"Egypt\",\"location_type\":\"Country\",\"woeid\":23424802,\"latt_long\":\"26.837090,30.796391\"},\"sources\":[{\"title\":\"BBC\",\"slug\":\"bbc\",\"url\":\"http://www.bbc.co.uk/weather/\",\"crawl_rate\":360},{\"title\":\"Forecast.io\",\"slug\":\"forecast-io\",\"url\":\"http://forecast.io/\",\"crawl_rate\":480},{\"title\":\"HAMweather\",\"slug\":\"hamweather\",\"url\":\"http://www.hamweather.com/\",\"crawl_rate\":360},{\"title\":\"Met Office\",\"slug\":\"met-office\",\"url\":\"http://www.metoffice.gov.uk/\",\"crawl_rate\":180},{\"title\":\"OpenWeatherMap\",\"slug\":\"openweathermap\",\"url\":\"http://openweathermap.org/\",\"crawl_rate\":360},{\"title\":\"Weather Underground\",\"slug\":\"wunderground\",\"url\":\"https://www.wunderground.com/?apiref=fc30dc3cd224e19b\",\"crawl_rate\":720},{\"title\":\"World Weather Online\",\"slug\":\"world-weather-online\",\"url\":\"http://www.worldweatheronline.com/\",\"crawl_rate\":360}],\"title\":\"Cairo\",\"location_type\":\"City\",\"woeid\":1521894,\"latt_long\":\"30.049950,31.248600\",\"timezone\":\"Africa/Cairo\"}\n"
     ]
    }
   ],
   "source": [
    "response = requests.get('https://www.metaweather.com/api/location/1521894/')\n",
    "print(response.text)\n",
    "json_res = response.content"
   ]
  },
  {
   "cell_type": "code",
   "execution_count": 5,
   "id": "66e466da",
   "metadata": {},
   "outputs": [
    {
     "data": {
      "text/plain": [
       "{'consolidated_weather': [{'id': 6243028080525312,\n",
       "   'weather_state_name': 'Light Cloud',\n",
       "   'weather_state_abbr': 'lc',\n",
       "   'wind_direction_compass': 'NNW',\n",
       "   'created': '2021-09-11T13:34:24.251470Z',\n",
       "   'applicable_date': '2021-09-11',\n",
       "   'min_temp': 22.240000000000002,\n",
       "   'max_temp': 34.230000000000004,\n",
       "   'the_temp': 31.53,\n",
       "   'wind_speed': 7.671724580285797,\n",
       "   'wind_direction': 336.4322412219649,\n",
       "   'air_pressure': 1014.0,\n",
       "   'humidity': 48,\n",
       "   'visibility': 14.206720253718284,\n",
       "   'predictability': 70},\n",
       "  {'id': 5351216801382400,\n",
       "   'weather_state_name': 'Clear',\n",
       "   'weather_state_abbr': 'c',\n",
       "   'wind_direction_compass': 'NNW',\n",
       "   'created': '2021-09-11T13:34:26.767835Z',\n",
       "   'applicable_date': '2021-09-12',\n",
       "   'min_temp': 21.545,\n",
       "   'max_temp': 35.92,\n",
       "   'the_temp': 32.44,\n",
       "   'wind_speed': 6.193606686600918,\n",
       "   'wind_direction': 345.9218239795083,\n",
       "   'air_pressure': 1011.5,\n",
       "   'humidity': 43,\n",
       "   'visibility': 14.559348405312972,\n",
       "   'predictability': 68},\n",
       "  {'id': 5948167704018944,\n",
       "   'weather_state_name': 'Clear',\n",
       "   'weather_state_abbr': 'c',\n",
       "   'wind_direction_compass': 'WNW',\n",
       "   'created': '2021-09-11T13:34:30.270190Z',\n",
       "   'applicable_date': '2021-09-13',\n",
       "   'min_temp': 25.369999999999997,\n",
       "   'max_temp': 38.485,\n",
       "   'the_temp': 36.735,\n",
       "   'wind_speed': 7.322852897383282,\n",
       "   'wind_direction': 298.4680480829431,\n",
       "   'air_pressure': 1009.0,\n",
       "   'humidity': 30,\n",
       "   'visibility': 14.699467609162491,\n",
       "   'predictability': 68},\n",
       "  {'id': 5785194482106368,\n",
       "   'weather_state_name': 'Clear',\n",
       "   'weather_state_abbr': 'c',\n",
       "   'wind_direction_compass': 'N',\n",
       "   'created': '2021-09-11T13:34:32.447075Z',\n",
       "   'applicable_date': '2021-09-14',\n",
       "   'min_temp': 24.134999999999998,\n",
       "   'max_temp': 36.205,\n",
       "   'the_temp': 33.37,\n",
       "   'wind_speed': 6.937136238664863,\n",
       "   'wind_direction': 351.95663480946246,\n",
       "   'air_pressure': 1010.5,\n",
       "   'humidity': 42,\n",
       "   'visibility': 14.255187206712797,\n",
       "   'predictability': 68},\n",
       "  {'id': 5984270628683776,\n",
       "   'weather_state_name': 'Clear',\n",
       "   'weather_state_abbr': 'c',\n",
       "   'wind_direction_compass': 'NNW',\n",
       "   'created': '2021-09-11T13:34:36.062622Z',\n",
       "   'applicable_date': '2021-09-15',\n",
       "   'min_temp': 24.68,\n",
       "   'max_temp': 34.45,\n",
       "   'the_temp': 31.745,\n",
       "   'wind_speed': 8.124003023661814,\n",
       "   'wind_direction': 344.2288108893581,\n",
       "   'air_pressure': 1012.5,\n",
       "   'humidity': 46,\n",
       "   'visibility': 13.933316929133857,\n",
       "   'predictability': 68},\n",
       "  {'id': 4578280234549248,\n",
       "   'weather_state_name': 'Clear',\n",
       "   'weather_state_abbr': 'c',\n",
       "   'wind_direction_compass': 'NNW',\n",
       "   'created': '2021-09-11T13:34:39.145666Z',\n",
       "   'applicable_date': '2021-09-16',\n",
       "   'min_temp': 22.5,\n",
       "   'max_temp': 32.955,\n",
       "   'the_temp': 29.7,\n",
       "   'wind_speed': 7.422291418118189,\n",
       "   'wind_direction': 330.5,\n",
       "   'air_pressure': 1013.0,\n",
       "   'humidity': 50,\n",
       "   'visibility': 9.999726596675416,\n",
       "   'predictability': 68}],\n",
       " 'time': '2021-09-11T18:10:39.263721+02:00',\n",
       " 'sun_rise': '2021-09-11T05:37:22.477212+02:00',\n",
       " 'sun_set': '2021-09-11T18:05:18.923615+02:00',\n",
       " 'timezone_name': 'LMT',\n",
       " 'parent': {'title': 'Egypt',\n",
       "  'location_type': 'Country',\n",
       "  'woeid': 23424802,\n",
       "  'latt_long': '26.837090,30.796391'},\n",
       " 'sources': [{'title': 'BBC',\n",
       "   'slug': 'bbc',\n",
       "   'url': 'http://www.bbc.co.uk/weather/',\n",
       "   'crawl_rate': 360},\n",
       "  {'title': 'Forecast.io',\n",
       "   'slug': 'forecast-io',\n",
       "   'url': 'http://forecast.io/',\n",
       "   'crawl_rate': 480},\n",
       "  {'title': 'HAMweather',\n",
       "   'slug': 'hamweather',\n",
       "   'url': 'http://www.hamweather.com/',\n",
       "   'crawl_rate': 360},\n",
       "  {'title': 'Met Office',\n",
       "   'slug': 'met-office',\n",
       "   'url': 'http://www.metoffice.gov.uk/',\n",
       "   'crawl_rate': 180},\n",
       "  {'title': 'OpenWeatherMap',\n",
       "   'slug': 'openweathermap',\n",
       "   'url': 'http://openweathermap.org/',\n",
       "   'crawl_rate': 360},\n",
       "  {'title': 'Weather Underground',\n",
       "   'slug': 'wunderground',\n",
       "   'url': 'https://www.wunderground.com/?apiref=fc30dc3cd224e19b',\n",
       "   'crawl_rate': 720},\n",
       "  {'title': 'World Weather Online',\n",
       "   'slug': 'world-weather-online',\n",
       "   'url': 'http://www.worldweatheronline.com/',\n",
       "   'crawl_rate': 360}],\n",
       " 'title': 'Cairo',\n",
       " 'location_type': 'City',\n",
       " 'woeid': 1521894,\n",
       " 'latt_long': '30.049950,31.248600',\n",
       " 'timezone': 'Africa/Cairo'}"
      ]
     },
     "execution_count": 5,
     "metadata": {},
     "output_type": "execute_result"
    }
   ],
   "source": [
    "data = json.loads(json_res)\n",
    "data"
   ]
  },
  {
   "cell_type": "code",
   "execution_count": 23,
   "id": "4c5d25d5",
   "metadata": {},
   "outputs": [
    {
     "name": "stdout",
     "output_type": "stream",
     "text": [
      "the temperature is:31.53, visibility:14.206720253718284, air_preesure: 1014.0, wind_speed: 7.671724580285797, date_time: 2021-09-11\n",
      "the temperature is:32.44, visibility:14.559348405312972, air_preesure: 1011.5, wind_speed: 6.193606686600918, date_time: 2021-09-12\n",
      "the temperature is:36.735, visibility:14.699467609162491, air_preesure: 1009.0, wind_speed: 7.322852897383282, date_time: 2021-09-13\n",
      "the temperature is:33.37, visibility:14.255187206712797, air_preesure: 1010.5, wind_speed: 6.937136238664863, date_time: 2021-09-14\n",
      "the temperature is:31.745, visibility:13.933316929133857, air_preesure: 1012.5, wind_speed: 8.124003023661814, date_time: 2021-09-15\n",
      "the temperature is:29.7, visibility:9.999726596675416, air_preesure: 1013.0, wind_speed: 7.422291418118189, date_time: 2021-09-16\n"
     ]
    }
   ],
   "source": [
    "for weather in data['consolidated_weather']:\n",
    "    temperature = weather['the_temp']\n",
    "    visibility = weather['visibility']\n",
    "    air_pressure = weather['air_pressure']\n",
    "    wind_speed = weather['wind_speed']\n",
    "    date_time = weather['applicable_date']\n",
    "    print(f'the temperature is:{temperature}, visibility:{visibility}, air_preesure: {air_pressure}, wind_speed: {wind_speed}, date_time: {date_time}')    "
   ]
  },
  {
   "cell_type": "code",
   "execution_count": 18,
   "id": "1598dfad",
   "metadata": {},
   "outputs": [],
   "source": [
    "with open('weather.csv', 'w') as f:\n",
    "    writer = csv.DictWriter(f, fieldnames=['temperature', 'visibility', 'air_pressure', 'wind_speed', 'date_time'])\n",
    "    writer.writeheader()\n",
    "    for weather in data['consolidated_weather']:\n",
    "        temperature = weather['the_temp']\n",
    "        visibility = weather['visibility']\n",
    "        air_pressure = weather['air_pressure']\n",
    "        wind_speed = weather['wind_speed']\n",
    "        date_time = weather['applicable_date']\n",
    "        writer.writerow({'temperature':temperature, 'visibility': visibility, 'air_pressure':air_pressure, 'date_time': date_time})\n",
    "\n",
    "        "
   ]
  },
  {
   "cell_type": "code",
   "execution_count": null,
   "id": "44a2eee4",
   "metadata": {},
   "outputs": [],
   "source": []
  }
 ],
 "metadata": {
  "kernelspec": {
   "display_name": "Python 3",
   "language": "python",
   "name": "python3"
  },
  "language_info": {
   "codemirror_mode": {
    "name": "ipython",
    "version": 3
   },
   "file_extension": ".py",
   "mimetype": "text/x-python",
   "name": "python",
   "nbconvert_exporter": "python",
   "pygments_lexer": "ipython3",
   "version": "3.8.8"
  }
 },
 "nbformat": 4,
 "nbformat_minor": 5
}
