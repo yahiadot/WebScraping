{
 "cells": [
  {
   "cell_type": "code",
   "execution_count": 1,
   "id": "f39b1bb4",
   "metadata": {},
   "outputs": [],
   "source": [
    "import requests\n",
    "import json"
   ]
  },
  {
   "cell_type": "code",
   "execution_count": 2,
   "id": "5f016c1c",
   "metadata": {},
   "outputs": [],
   "source": [
    "response = requests.get('https://api.frankfurter.app/latest?amount=1&from=USD&to=EUR')\n",
    "json_res = response.text"
   ]
  },
  {
   "cell_type": "code",
   "execution_count": 3,
   "id": "3c02c12c",
   "metadata": {},
   "outputs": [
    {
     "data": {
      "text/plain": [
       "dict"
      ]
     },
     "execution_count": 3,
     "metadata": {},
     "output_type": "execute_result"
    }
   ],
   "source": [
    "data =json.loads(json_res)\n",
    "type(data)"
   ]
  },
  {
   "cell_type": "code",
   "execution_count": 4,
   "id": "49be98b2",
   "metadata": {},
   "outputs": [
    {
     "data": {
      "text/plain": [
       "{'amount': 1.0, 'base': 'USD', 'date': '2021-09-10', 'rates': {'EUR': 0.84452}}"
      ]
     },
     "execution_count": 4,
     "metadata": {},
     "output_type": "execute_result"
    }
   ],
   "source": [
    "data"
   ]
  },
  {
   "cell_type": "code",
   "execution_count": 5,
   "id": "de81b9fc",
   "metadata": {},
   "outputs": [],
   "source": [
    "amount = data['amount']"
   ]
  },
  {
   "cell_type": "code",
   "execution_count": 6,
   "id": "c98a26fa",
   "metadata": {},
   "outputs": [
    {
     "data": {
      "text/plain": [
       "1.0"
      ]
     },
     "execution_count": 6,
     "metadata": {},
     "output_type": "execute_result"
    }
   ],
   "source": [
    "amount"
   ]
  },
  {
   "cell_type": "code",
   "execution_count": 7,
   "id": "99381c50",
   "metadata": {},
   "outputs": [],
   "source": [
    "rate = data['rates']"
   ]
  },
  {
   "cell_type": "code",
   "execution_count": 8,
   "id": "8a3a1760",
   "metadata": {},
   "outputs": [
    {
     "data": {
      "text/plain": [
       "{'EUR': 0.84452}"
      ]
     },
     "execution_count": 8,
     "metadata": {},
     "output_type": "execute_result"
    }
   ],
   "source": [
    "rate"
   ]
  },
  {
   "cell_type": "code",
   "execution_count": 9,
   "id": "a34deb08",
   "metadata": {},
   "outputs": [
    {
     "name": "stdout",
     "output_type": "stream",
     "text": [
      "the amount of USD:1.0, the rate is:{'EUR': 0.84452}\n",
      "the amount of USD:1.0, the rate is:{'EUR': 0.84452}\n",
      "the amount of USD:1.0, the rate is:{'EUR': 0.84452}\n",
      "the amount of USD:1.0, the rate is:{'EUR': 0.84452}\n"
     ]
    }
   ],
   "source": [
    "for c in data:\n",
    "    amount = data['amount']\n",
    "    rate = data['rates']\n",
    "    print(f'the amount of USD:{amount}, the rate is:{rate}')"
   ]
  },
  {
   "cell_type": "code",
   "execution_count": null,
   "id": "ec7facde",
   "metadata": {},
   "outputs": [],
   "source": []
  }
 ],
 "metadata": {
  "kernelspec": {
   "display_name": "Python 3",
   "language": "python",
   "name": "python3"
  }
 },
 "nbformat": 4,
 "nbformat_minor": 5
}
